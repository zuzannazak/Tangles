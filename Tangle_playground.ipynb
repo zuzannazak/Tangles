{
  "nbformat": 4,
  "nbformat_minor": 0,
  "metadata": {
    "colab": {
      "name": "Tangle playground.ipynb",
      "provenance": [],
      "include_colab_link": true
    },
    "kernelspec": {
      "name": "python3",
      "display_name": "Python 3"
    },
    "language_info": {
      "name": "python"
    }
  },
  "cells": [
    {
      "cell_type": "markdown",
      "metadata": {
        "id": "view-in-github",
        "colab_type": "text"
      },
      "source": [
        "<a href=\"https://colab.research.google.com/github/zuzannazak/Tangles/blob/main/Tangle_playground.ipynb\" target=\"_parent\"><img src=\"https://colab.research.google.com/assets/colab-badge.svg\" alt=\"Open In Colab\"/></a>"
      ]
    },
    {
      "cell_type": "markdown",
      "source": [
        "#Tangles theoretical intro"
      ],
      "metadata": {
        "id": "SLVHyQb6cYSa"
      }
    },
    {
      "cell_type": "markdown",
      "source": [
        "##Definitions\n",
        "\n",
        "Traditional clustering identifies groups of objects that share\n",
        "certain qualities. Tangles do the converse: they identify\n",
        "groups of qualities that often occur together. They can\n",
        "thereby identify and discover types: of behaviour, views,\n",
        "abilities, dispositions.\n",
        "\n",
        "\n",
        "\n",
        "*   (potential) features s of (elements v of) V (aka separations)\n",
        "   *    The elements of S are called potential features of (the elements of) V, those of S~ are their features. An element of V has a feature A if it lies in A.\n",
        "*   specifications →s , ←s of such s\n",
        "   *   A subset of S~ is a specification of S if for every s ∈ S it contains either →s or ←s but not both. The elements of S are called potential features of (the elements of) V, those of S~ are their features. An element of V has a feature A if it lies in A.\n",
        "   *   types (or typical specifications of S) \n",
        "      *   A subset of S~ is a specification of S if for every s ∈ S it contains either →s or ←s but not both.\n",
        "   *   consistency of specifications\n",
        "     *   A subset of S~ is inconsistent if it contains three features →r, →s, →t such that no element of V has them al\n",
        "*   tangles\n",
        "   *   Every Fn-tangle of S contains all the features ←s for which →s has fewer than n elements, because it cannot contain {→s } ∈ Fn as a subset.\n",
        "*   star\n",
        "   *   A set of features is a star if their inverses are disjoint subsets of V. \n",
        "*   universe of features\n",
        "   *   We shall be particularly interested in sets S such that S~ contains, for any given →r ,→s ∈ S~, also the features →r ∨ →s and →r ∧ →s . If S has this property, then S~ will, in fact, contain all Boolean expressions of features it contains already - combinations of features built from others by using the symbols ∨ and ∧ and taking inverses. We then call S~ a universe of features.\n",
        "*   submodularity\n",
        "   *   S and S~ are submodular if for any two features →r ,→s ∈ S~ at least one of →r ∨ →s and →r ∧ →s is also in S~.\n",
        "\n"
      ],
      "metadata": {
        "id": "B6dAWzMacPO-"
      }
    },
    {
      "cell_type": "markdown",
      "source": [
        "#Tangles example - Polish administrative regions and numeric variables\n",
        "\n",
        "Data about Polish administrative regions (16) regarding population health."
      ],
      "metadata": {
        "id": "auJcr7pJcdqt"
      }
    },
    {
      "cell_type": "code",
      "execution_count": null,
      "metadata": {
        "id": "wqCDMGxkRyzU"
      },
      "outputs": [],
      "source": [
        "#from google.colab import drive\n",
        "#drive.mount('/content/drive')\n",
        "\n",
        "import pandas as pd\n",
        "import numpy as np"
      ]
    },
    {
      "cell_type": "code",
      "source": [
        "#df = pd.read_excel(\"/content/drive/MyDrive/STUDIA/Doktorskie/Tangle/test-data.xlsx\")\n",
        "df = pd.read_excel(\"https://github.com/zuzannazak/Tangles/blob/main/wojewodztwa_test_data.xlsx?raw=true\")\n",
        "df.head()"
      ],
      "metadata": {
        "colab": {
          "base_uri": "https://localhost:8080/",
          "height": 285
        },
        "id": "qWZ38uDVc__j",
        "outputId": "8806a8ec-9ccd-41eb-866f-256649a96f10"
      },
      "execution_count": null,
      "outputs": [
        {
          "output_type": "execute_result",
          "data": {
            "text/html": [
              "\n",
              "  <div id=\"df-43e4346c-88eb-4681-8a4e-b3d7d17f5408\">\n",
              "    <div class=\"colab-df-container\">\n",
              "      <div>\n",
              "<style scoped>\n",
              "    .dataframe tbody tr th:only-of-type {\n",
              "        vertical-align: middle;\n",
              "    }\n",
              "\n",
              "    .dataframe tbody tr th {\n",
              "        vertical-align: top;\n",
              "    }\n",
              "\n",
              "    .dataframe thead th {\n",
              "        text-align: right;\n",
              "    }\n",
              "</style>\n",
              "<table border=\"1\" class=\"dataframe\">\n",
              "  <thead>\n",
              "    <tr style=\"text-align: right;\">\n",
              "      <th></th>\n",
              "      <th>Nazwa wojewodztwa</th>\n",
              "      <th>Oczekiwane trwanie życia w zdrowiu - mężczyźni</th>\n",
              "      <th>Oczekiwane trwanie życia w zdrowiu - kobiety</th>\n",
              "      <th>Lekarze posiadający prawo wykonywania zawodu medycznego na 10 tys. ludności</th>\n",
              "      <th>Powierzchnia gruntów leśnych (ha)</th>\n",
              "    </tr>\n",
              "  </thead>\n",
              "  <tbody>\n",
              "    <tr>\n",
              "      <th>0</th>\n",
              "      <td>DOLNOŚLĄSKIE</td>\n",
              "      <td>59.3</td>\n",
              "      <td>63.1</td>\n",
              "      <td>43.2</td>\n",
              "      <td>28652.24</td>\n",
              "    </tr>\n",
              "    <tr>\n",
              "      <th>1</th>\n",
              "      <td>KUJAWSKO-POMORSKIE</td>\n",
              "      <td>59.8</td>\n",
              "      <td>63.5</td>\n",
              "      <td>32.3</td>\n",
              "      <td>53390.76</td>\n",
              "    </tr>\n",
              "    <tr>\n",
              "      <th>2</th>\n",
              "      <td>LUBELSKIE</td>\n",
              "      <td>59.4</td>\n",
              "      <td>62.9</td>\n",
              "      <td>42.0</td>\n",
              "      <td>240792.69</td>\n",
              "    </tr>\n",
              "    <tr>\n",
              "      <th>3</th>\n",
              "      <td>LUBUSKIE</td>\n",
              "      <td>60.6</td>\n",
              "      <td>64.2</td>\n",
              "      <td>25.3</td>\n",
              "      <td>15003.21</td>\n",
              "    </tr>\n",
              "    <tr>\n",
              "      <th>4</th>\n",
              "      <td>ŁÓDZKIE</td>\n",
              "      <td>58.7</td>\n",
              "      <td>62.7</td>\n",
              "      <td>48.3</td>\n",
              "      <td>139044.29</td>\n",
              "    </tr>\n",
              "  </tbody>\n",
              "</table>\n",
              "</div>\n",
              "      <button class=\"colab-df-convert\" onclick=\"convertToInteractive('df-43e4346c-88eb-4681-8a4e-b3d7d17f5408')\"\n",
              "              title=\"Convert this dataframe to an interactive table.\"\n",
              "              style=\"display:none;\">\n",
              "        \n",
              "  <svg xmlns=\"http://www.w3.org/2000/svg\" height=\"24px\"viewBox=\"0 0 24 24\"\n",
              "       width=\"24px\">\n",
              "    <path d=\"M0 0h24v24H0V0z\" fill=\"none\"/>\n",
              "    <path d=\"M18.56 5.44l.94 2.06.94-2.06 2.06-.94-2.06-.94-.94-2.06-.94 2.06-2.06.94zm-11 1L8.5 8.5l.94-2.06 2.06-.94-2.06-.94L8.5 2.5l-.94 2.06-2.06.94zm10 10l.94 2.06.94-2.06 2.06-.94-2.06-.94-.94-2.06-.94 2.06-2.06.94z\"/><path d=\"M17.41 7.96l-1.37-1.37c-.4-.4-.92-.59-1.43-.59-.52 0-1.04.2-1.43.59L10.3 9.45l-7.72 7.72c-.78.78-.78 2.05 0 2.83L4 21.41c.39.39.9.59 1.41.59.51 0 1.02-.2 1.41-.59l7.78-7.78 2.81-2.81c.8-.78.8-2.07 0-2.86zM5.41 20L4 18.59l7.72-7.72 1.47 1.35L5.41 20z\"/>\n",
              "  </svg>\n",
              "      </button>\n",
              "      \n",
              "  <style>\n",
              "    .colab-df-container {\n",
              "      display:flex;\n",
              "      flex-wrap:wrap;\n",
              "      gap: 12px;\n",
              "    }\n",
              "\n",
              "    .colab-df-convert {\n",
              "      background-color: #E8F0FE;\n",
              "      border: none;\n",
              "      border-radius: 50%;\n",
              "      cursor: pointer;\n",
              "      display: none;\n",
              "      fill: #1967D2;\n",
              "      height: 32px;\n",
              "      padding: 0 0 0 0;\n",
              "      width: 32px;\n",
              "    }\n",
              "\n",
              "    .colab-df-convert:hover {\n",
              "      background-color: #E2EBFA;\n",
              "      box-shadow: 0px 1px 2px rgba(60, 64, 67, 0.3), 0px 1px 3px 1px rgba(60, 64, 67, 0.15);\n",
              "      fill: #174EA6;\n",
              "    }\n",
              "\n",
              "    [theme=dark] .colab-df-convert {\n",
              "      background-color: #3B4455;\n",
              "      fill: #D2E3FC;\n",
              "    }\n",
              "\n",
              "    [theme=dark] .colab-df-convert:hover {\n",
              "      background-color: #434B5C;\n",
              "      box-shadow: 0px 1px 3px 1px rgba(0, 0, 0, 0.15);\n",
              "      filter: drop-shadow(0px 1px 2px rgba(0, 0, 0, 0.3));\n",
              "      fill: #FFFFFF;\n",
              "    }\n",
              "  </style>\n",
              "\n",
              "      <script>\n",
              "        const buttonEl =\n",
              "          document.querySelector('#df-43e4346c-88eb-4681-8a4e-b3d7d17f5408 button.colab-df-convert');\n",
              "        buttonEl.style.display =\n",
              "          google.colab.kernel.accessAllowed ? 'block' : 'none';\n",
              "\n",
              "        async function convertToInteractive(key) {\n",
              "          const element = document.querySelector('#df-43e4346c-88eb-4681-8a4e-b3d7d17f5408');\n",
              "          const dataTable =\n",
              "            await google.colab.kernel.invokeFunction('convertToInteractive',\n",
              "                                                     [key], {});\n",
              "          if (!dataTable) return;\n",
              "\n",
              "          const docLinkHtml = 'Like what you see? Visit the ' +\n",
              "            '<a target=\"_blank\" href=https://colab.research.google.com/notebooks/data_table.ipynb>data table notebook</a>'\n",
              "            + ' to learn more about interactive tables.';\n",
              "          element.innerHTML = '';\n",
              "          dataTable['output_type'] = 'display_data';\n",
              "          await google.colab.output.renderOutput(dataTable, element);\n",
              "          const docLink = document.createElement('div');\n",
              "          docLink.innerHTML = docLinkHtml;\n",
              "          element.appendChild(docLink);\n",
              "        }\n",
              "      </script>\n",
              "    </div>\n",
              "  </div>\n",
              "  "
            ],
            "text/plain": [
              "    Nazwa wojewodztwa  ...  Powierzchnia gruntów leśnych (ha)\n",
              "0        DOLNOŚLĄSKIE  ...                           28652.24\n",
              "1  KUJAWSKO-POMORSKIE  ...                           53390.76\n",
              "2           LUBELSKIE  ...                          240792.69\n",
              "3            LUBUSKIE  ...                           15003.21\n",
              "4             ŁÓDZKIE  ...                          139044.29\n",
              "\n",
              "[5 rows x 5 columns]"
            ]
          },
          "metadata": {},
          "execution_count": 2
        }
      ]
    },
    {
      "cell_type": "markdown",
      "source": [
        "#Tangles example - fake yes/no questionnaire"
      ],
      "metadata": {
        "id": "6RBQ2GNgThN8"
      }
    },
    {
      "cell_type": "code",
      "source": [
        "pip install openpyxl==3.0.0"
      ],
      "metadata": {
        "colab": {
          "base_uri": "https://localhost:8080/"
        },
        "id": "nT6IBQk-qoXR",
        "outputId": "4fe6c9bd-25bc-4eec-d268-162a5ead58ad"
      },
      "execution_count": null,
      "outputs": [
        {
          "output_type": "stream",
          "name": "stdout",
          "text": [
            "Collecting openpyxl==3.0.0\n",
            "  Downloading openpyxl-3.0.0.tar.gz (172 kB)\n",
            "\u001b[?25l\r\u001b[K     |██                              | 10 kB 17.7 MB/s eta 0:00:01\r\u001b[K     |███▉                            | 20 kB 11.3 MB/s eta 0:00:01\r\u001b[K     |█████▊                          | 30 kB 8.9 MB/s eta 0:00:01\r\u001b[K     |███████▋                        | 40 kB 8.2 MB/s eta 0:00:01\r\u001b[K     |█████████▌                      | 51 kB 5.0 MB/s eta 0:00:01\r\u001b[K     |███████████▍                    | 61 kB 5.1 MB/s eta 0:00:01\r\u001b[K     |█████████████▎                  | 71 kB 5.4 MB/s eta 0:00:01\r\u001b[K     |███████████████▏                | 81 kB 6.0 MB/s eta 0:00:01\r\u001b[K     |█████████████████               | 92 kB 4.6 MB/s eta 0:00:01\r\u001b[K     |███████████████████             | 102 kB 4.9 MB/s eta 0:00:01\r\u001b[K     |████████████████████▉           | 112 kB 4.9 MB/s eta 0:00:01\r\u001b[K     |██████████████████████▊         | 122 kB 4.9 MB/s eta 0:00:01\r\u001b[K     |████████████████████████▋       | 133 kB 4.9 MB/s eta 0:00:01\r\u001b[K     |██████████████████████████▌     | 143 kB 4.9 MB/s eta 0:00:01\r\u001b[K     |████████████████████████████▌   | 153 kB 4.9 MB/s eta 0:00:01\r\u001b[K     |██████████████████████████████▍ | 163 kB 4.9 MB/s eta 0:00:01\r\u001b[K     |████████████████████████████████| 172 kB 4.9 MB/s \n",
            "\u001b[?25hCollecting jdcal\n",
            "  Downloading jdcal-1.4.1-py2.py3-none-any.whl (9.5 kB)\n",
            "Requirement already satisfied: et_xmlfile in /usr/local/lib/python3.7/dist-packages (from openpyxl==3.0.0) (1.1.0)\n",
            "Building wheels for collected packages: openpyxl\n",
            "  Building wheel for openpyxl (setup.py) ... \u001b[?25l\u001b[?25hdone\n",
            "  Created wheel for openpyxl: filename=openpyxl-3.0.0-py2.py3-none-any.whl size=241207 sha256=b49e34106c8ba262820d0bc1491b1ddae3b6402e47fd3cb125eb46f7ac82dc72\n",
            "  Stored in directory: /root/.cache/pip/wheels/c7/64/ff/ce98f6e1d2701ae8e216c875da62feed2839ac8a3cae0ab8af\n",
            "Successfully built openpyxl\n",
            "Installing collected packages: jdcal, openpyxl\n",
            "  Attempting uninstall: openpyxl\n",
            "    Found existing installation: openpyxl 3.0.9\n",
            "    Uninstalling openpyxl-3.0.9:\n",
            "      Successfully uninstalled openpyxl-3.0.9\n",
            "Successfully installed jdcal-1.4.1 openpyxl-3.0.0\n"
          ]
        }
      ]
    },
    {
      "cell_type": "code",
      "source": [
        "pip install anytree"
      ],
      "metadata": {
        "colab": {
          "base_uri": "https://localhost:8080/"
        },
        "id": "ZSvjm5CW57Bt",
        "outputId": "b2d8bc44-22ce-4875-88bf-3876d8d4dcdb"
      },
      "execution_count": null,
      "outputs": [
        {
          "output_type": "stream",
          "name": "stdout",
          "text": [
            "Collecting anytree\n",
            "  Downloading anytree-2.8.0-py2.py3-none-any.whl (41 kB)\n",
            "\u001b[K     |████████████████████████████████| 41 kB 341 kB/s \n",
            "\u001b[?25hRequirement already satisfied: six>=1.9.0 in /usr/local/lib/python3.7/dist-packages (from anytree) (1.15.0)\n",
            "Installing collected packages: anytree\n",
            "Successfully installed anytree-2.8.0\n"
          ]
        }
      ]
    },
    {
      "cell_type": "code",
      "source": [
        "#from google.colab import drive\n",
        "#drive.mount('/content/drive')\n",
        "\n",
        "import pandas as pd\n",
        "import numpy as np\n",
        "import openpyxl\n",
        "from anytree import AnyNode, Node, RenderTree\n"
      ],
      "metadata": {
        "id": "POjRVZsLTmWL"
      },
      "execution_count": null,
      "outputs": []
    },
    {
      "cell_type": "code",
      "source": [
        "#df = pd.read_excel(\"/content/drive/MyDrive/STUDIA/Doktorskie/Tangle/Tangles_example_fake_data.xlsx\")\n",
        "df = pd.read_excel(\"https://github.com/zuzannazak/Tangles/blob/main/Tangles_example_fake_data.xlsx?raw=true\")\n",
        "df.head()"
      ],
      "metadata": {
        "colab": {
          "base_uri": "https://localhost:8080/",
          "height": 206
        },
        "id": "nlC-YzOSTnHZ",
        "outputId": "7b5acf1c-ad55-4b0e-8947-78dc6d66ec3a"
      },
      "execution_count": null,
      "outputs": [
        {
          "output_type": "execute_result",
          "data": {
            "text/html": [
              "\n",
              "  <div id=\"df-570e9fa0-fcfc-458f-8a5c-2c73c84f585c\">\n",
              "    <div class=\"colab-df-container\">\n",
              "      <div>\n",
              "<style scoped>\n",
              "    .dataframe tbody tr th:only-of-type {\n",
              "        vertical-align: middle;\n",
              "    }\n",
              "\n",
              "    .dataframe tbody tr th {\n",
              "        vertical-align: top;\n",
              "    }\n",
              "\n",
              "    .dataframe thead th {\n",
              "        text-align: right;\n",
              "    }\n",
              "</style>\n",
              "<table border=\"1\" class=\"dataframe\">\n",
              "  <thead>\n",
              "    <tr style=\"text-align: right;\">\n",
              "      <th></th>\n",
              "      <th>Person</th>\n",
              "      <th>Question 1</th>\n",
              "      <th>Question 2</th>\n",
              "      <th>Question 3</th>\n",
              "      <th>Question 4</th>\n",
              "      <th>Question 5</th>\n",
              "      <th>Question 6</th>\n",
              "      <th>Question 7</th>\n",
              "      <th>Question 8</th>\n",
              "      <th>Question 9</th>\n",
              "      <th>Question 10</th>\n",
              "    </tr>\n",
              "  </thead>\n",
              "  <tbody>\n",
              "    <tr>\n",
              "      <th>0</th>\n",
              "      <td>A</td>\n",
              "      <td>Yes</td>\n",
              "      <td>Yes</td>\n",
              "      <td>No</td>\n",
              "      <td>No</td>\n",
              "      <td>No</td>\n",
              "      <td>No</td>\n",
              "      <td>Yes</td>\n",
              "      <td>No</td>\n",
              "      <td>No</td>\n",
              "      <td>Yes</td>\n",
              "    </tr>\n",
              "    <tr>\n",
              "      <th>1</th>\n",
              "      <td>B</td>\n",
              "      <td>Yes</td>\n",
              "      <td>Yes</td>\n",
              "      <td>No</td>\n",
              "      <td>Yes</td>\n",
              "      <td>Yes</td>\n",
              "      <td>No</td>\n",
              "      <td>No</td>\n",
              "      <td>Yes</td>\n",
              "      <td>Yes</td>\n",
              "      <td>Yes</td>\n",
              "    </tr>\n",
              "    <tr>\n",
              "      <th>2</th>\n",
              "      <td>C</td>\n",
              "      <td>Yes</td>\n",
              "      <td>Yes</td>\n",
              "      <td>No</td>\n",
              "      <td>No</td>\n",
              "      <td>Yes</td>\n",
              "      <td>No</td>\n",
              "      <td>Yes</td>\n",
              "      <td>Yes</td>\n",
              "      <td>No</td>\n",
              "      <td>Yes</td>\n",
              "    </tr>\n",
              "    <tr>\n",
              "      <th>3</th>\n",
              "      <td>D</td>\n",
              "      <td>Yes</td>\n",
              "      <td>Yes</td>\n",
              "      <td>No</td>\n",
              "      <td>Yes</td>\n",
              "      <td>No</td>\n",
              "      <td>No</td>\n",
              "      <td>No</td>\n",
              "      <td>No</td>\n",
              "      <td>Yes</td>\n",
              "      <td>Yes</td>\n",
              "    </tr>\n",
              "    <tr>\n",
              "      <th>4</th>\n",
              "      <td>E</td>\n",
              "      <td>Yes</td>\n",
              "      <td>Yes</td>\n",
              "      <td>No</td>\n",
              "      <td>No</td>\n",
              "      <td>Yes</td>\n",
              "      <td>No</td>\n",
              "      <td>No</td>\n",
              "      <td>Yes</td>\n",
              "      <td>Yes</td>\n",
              "      <td>Yes</td>\n",
              "    </tr>\n",
              "  </tbody>\n",
              "</table>\n",
              "</div>\n",
              "      <button class=\"colab-df-convert\" onclick=\"convertToInteractive('df-570e9fa0-fcfc-458f-8a5c-2c73c84f585c')\"\n",
              "              title=\"Convert this dataframe to an interactive table.\"\n",
              "              style=\"display:none;\">\n",
              "        \n",
              "  <svg xmlns=\"http://www.w3.org/2000/svg\" height=\"24px\"viewBox=\"0 0 24 24\"\n",
              "       width=\"24px\">\n",
              "    <path d=\"M0 0h24v24H0V0z\" fill=\"none\"/>\n",
              "    <path d=\"M18.56 5.44l.94 2.06.94-2.06 2.06-.94-2.06-.94-.94-2.06-.94 2.06-2.06.94zm-11 1L8.5 8.5l.94-2.06 2.06-.94-2.06-.94L8.5 2.5l-.94 2.06-2.06.94zm10 10l.94 2.06.94-2.06 2.06-.94-2.06-.94-.94-2.06-.94 2.06-2.06.94z\"/><path d=\"M17.41 7.96l-1.37-1.37c-.4-.4-.92-.59-1.43-.59-.52 0-1.04.2-1.43.59L10.3 9.45l-7.72 7.72c-.78.78-.78 2.05 0 2.83L4 21.41c.39.39.9.59 1.41.59.51 0 1.02-.2 1.41-.59l7.78-7.78 2.81-2.81c.8-.78.8-2.07 0-2.86zM5.41 20L4 18.59l7.72-7.72 1.47 1.35L5.41 20z\"/>\n",
              "  </svg>\n",
              "      </button>\n",
              "      \n",
              "  <style>\n",
              "    .colab-df-container {\n",
              "      display:flex;\n",
              "      flex-wrap:wrap;\n",
              "      gap: 12px;\n",
              "    }\n",
              "\n",
              "    .colab-df-convert {\n",
              "      background-color: #E8F0FE;\n",
              "      border: none;\n",
              "      border-radius: 50%;\n",
              "      cursor: pointer;\n",
              "      display: none;\n",
              "      fill: #1967D2;\n",
              "      height: 32px;\n",
              "      padding: 0 0 0 0;\n",
              "      width: 32px;\n",
              "    }\n",
              "\n",
              "    .colab-df-convert:hover {\n",
              "      background-color: #E2EBFA;\n",
              "      box-shadow: 0px 1px 2px rgba(60, 64, 67, 0.3), 0px 1px 3px 1px rgba(60, 64, 67, 0.15);\n",
              "      fill: #174EA6;\n",
              "    }\n",
              "\n",
              "    [theme=dark] .colab-df-convert {\n",
              "      background-color: #3B4455;\n",
              "      fill: #D2E3FC;\n",
              "    }\n",
              "\n",
              "    [theme=dark] .colab-df-convert:hover {\n",
              "      background-color: #434B5C;\n",
              "      box-shadow: 0px 1px 3px 1px rgba(0, 0, 0, 0.15);\n",
              "      filter: drop-shadow(0px 1px 2px rgba(0, 0, 0, 0.3));\n",
              "      fill: #FFFFFF;\n",
              "    }\n",
              "  </style>\n",
              "\n",
              "      <script>\n",
              "        const buttonEl =\n",
              "          document.querySelector('#df-570e9fa0-fcfc-458f-8a5c-2c73c84f585c button.colab-df-convert');\n",
              "        buttonEl.style.display =\n",
              "          google.colab.kernel.accessAllowed ? 'block' : 'none';\n",
              "\n",
              "        async function convertToInteractive(key) {\n",
              "          const element = document.querySelector('#df-570e9fa0-fcfc-458f-8a5c-2c73c84f585c');\n",
              "          const dataTable =\n",
              "            await google.colab.kernel.invokeFunction('convertToInteractive',\n",
              "                                                     [key], {});\n",
              "          if (!dataTable) return;\n",
              "\n",
              "          const docLinkHtml = 'Like what you see? Visit the ' +\n",
              "            '<a target=\"_blank\" href=https://colab.research.google.com/notebooks/data_table.ipynb>data table notebook</a>'\n",
              "            + ' to learn more about interactive tables.';\n",
              "          element.innerHTML = '';\n",
              "          dataTable['output_type'] = 'display_data';\n",
              "          await google.colab.output.renderOutput(dataTable, element);\n",
              "          const docLink = document.createElement('div');\n",
              "          docLink.innerHTML = docLinkHtml;\n",
              "          element.appendChild(docLink);\n",
              "        }\n",
              "      </script>\n",
              "    </div>\n",
              "  </div>\n",
              "  "
            ],
            "text/plain": [
              "  Person Question 1 Question 2  ... Question 8 Question 9 Question 10\n",
              "0      A        Yes        Yes  ...         No         No         Yes\n",
              "1      B        Yes        Yes  ...        Yes        Yes         Yes\n",
              "2      C        Yes        Yes  ...        Yes         No         Yes\n",
              "3      D        Yes        Yes  ...         No        Yes         Yes\n",
              "4      E        Yes        Yes  ...        Yes        Yes         Yes\n",
              "\n",
              "[5 rows x 11 columns]"
            ]
          },
          "metadata": {},
          "execution_count": 4
        }
      ]
    },
    {
      "cell_type": "code",
      "source": [
        "#calculating cost function for cuts - the mean over the similarities over all possible pairs of separated persons:\n",
        "\n",
        "questions_with_cost_df = pd.DataFrame(columns=['Question', 'Cost'])\n",
        "for columnName in df.iteritems():\n",
        "  qA = df.loc[df[str(columnName[0])] == \"Yes\"]\n",
        "  qB = df.loc[df[str(columnName[0])] == \"No\"]\n",
        "\n",
        "  qA = qA.reset_index(drop=True)\n",
        "  qB = qB.reset_index(drop=True)\n",
        "\n",
        "\n",
        "  sum_of_similarities = 0\n",
        "\n",
        "  for i, row in qA.iterrows():\n",
        "      for l, row in qB.iterrows():\n",
        "        for k in range(10):\n",
        "          if qB.iat[l,k] == qA.iat[i,k]: \n",
        "            sum_of_similarities = sum_of_similarities +1\n",
        "            #print(str(j) + \": rząd \" + str(l) + \", pytanie \" + str(k) + \": \" + q1B.iat[l,k] + \" i \"+\"rząd \" + str(i) +\", pytanie \" + str(k) + \": \" + q1A.iat[i,k])\n",
        "            #print(sum_of_similarities)\n",
        "\n",
        "  number_of_pairs_between_sets = qA.shape[0]*qB.shape[0]\n",
        "  if number_of_pairs_between_sets == 0:\n",
        "    number_of_pairs_between_sets = 0.0000001\n",
        "  normalized_func_cost = sum_of_similarities/number_of_pairs_between_sets\n",
        "\n",
        "  questions_with_cost_df = pd.concat([questions_with_cost_df, pd.DataFrame({'Question': [str(columnName[0])],\n",
        "                    'Cost' : [normalized_func_cost]})], ignore_index = True, axis = 0)\n",
        "\n",
        "  sum_of_similarities = 0\n",
        "\n",
        "\n",
        "questions_with_cost_df\n",
        "#why 0 when all of them are different, or all of them are the same?"
      ],
      "metadata": {
        "colab": {
          "base_uri": "https://localhost:8080/",
          "height": 394
        },
        "id": "mBQPufGxh8l2",
        "outputId": "70273c9a-78c4-476c-aac0-35cf2f53efb8"
      },
      "execution_count": 37,
      "outputs": [
        {
          "output_type": "execute_result",
          "data": {
            "text/html": [
              "\n",
              "  <div id=\"df-788c721b-f7c3-4d20-8189-4012c23c3210\">\n",
              "    <div class=\"colab-df-container\">\n",
              "      <div>\n",
              "<style scoped>\n",
              "    .dataframe tbody tr th:only-of-type {\n",
              "        vertical-align: middle;\n",
              "    }\n",
              "\n",
              "    .dataframe tbody tr th {\n",
              "        vertical-align: top;\n",
              "    }\n",
              "\n",
              "    .dataframe thead th {\n",
              "        text-align: right;\n",
              "    }\n",
              "</style>\n",
              "<table border=\"1\" class=\"dataframe\">\n",
              "  <thead>\n",
              "    <tr style=\"text-align: right;\">\n",
              "      <th></th>\n",
              "      <th>Question</th>\n",
              "      <th>Cost</th>\n",
              "    </tr>\n",
              "  </thead>\n",
              "  <tbody>\n",
              "    <tr>\n",
              "      <th>0</th>\n",
              "      <td>Person</td>\n",
              "      <td>0.000000</td>\n",
              "    </tr>\n",
              "    <tr>\n",
              "      <th>1</th>\n",
              "      <td>Question 1</td>\n",
              "      <td>4.641667</td>\n",
              "    </tr>\n",
              "    <tr>\n",
              "      <th>2</th>\n",
              "      <td>Question 2</td>\n",
              "      <td>0.000000</td>\n",
              "    </tr>\n",
              "    <tr>\n",
              "      <th>3</th>\n",
              "      <td>Question 3</td>\n",
              "      <td>4.404762</td>\n",
              "    </tr>\n",
              "    <tr>\n",
              "      <th>4</th>\n",
              "      <td>Question 4</td>\n",
              "      <td>4.823077</td>\n",
              "    </tr>\n",
              "    <tr>\n",
              "      <th>5</th>\n",
              "      <td>Question 5</td>\n",
              "      <td>4.769841</td>\n",
              "    </tr>\n",
              "    <tr>\n",
              "      <th>6</th>\n",
              "      <td>Question 6</td>\n",
              "      <td>4.531746</td>\n",
              "    </tr>\n",
              "    <tr>\n",
              "      <th>7</th>\n",
              "      <td>Question 7</td>\n",
              "      <td>4.785714</td>\n",
              "    </tr>\n",
              "    <tr>\n",
              "      <th>8</th>\n",
              "      <td>Question 8</td>\n",
              "      <td>4.761905</td>\n",
              "    </tr>\n",
              "    <tr>\n",
              "      <th>9</th>\n",
              "      <td>Question 9</td>\n",
              "      <td>4.727273</td>\n",
              "    </tr>\n",
              "    <tr>\n",
              "      <th>10</th>\n",
              "      <td>Question 10</td>\n",
              "      <td>5.225000</td>\n",
              "    </tr>\n",
              "  </tbody>\n",
              "</table>\n",
              "</div>\n",
              "      <button class=\"colab-df-convert\" onclick=\"convertToInteractive('df-788c721b-f7c3-4d20-8189-4012c23c3210')\"\n",
              "              title=\"Convert this dataframe to an interactive table.\"\n",
              "              style=\"display:none;\">\n",
              "        \n",
              "  <svg xmlns=\"http://www.w3.org/2000/svg\" height=\"24px\"viewBox=\"0 0 24 24\"\n",
              "       width=\"24px\">\n",
              "    <path d=\"M0 0h24v24H0V0z\" fill=\"none\"/>\n",
              "    <path d=\"M18.56 5.44l.94 2.06.94-2.06 2.06-.94-2.06-.94-.94-2.06-.94 2.06-2.06.94zm-11 1L8.5 8.5l.94-2.06 2.06-.94-2.06-.94L8.5 2.5l-.94 2.06-2.06.94zm10 10l.94 2.06.94-2.06 2.06-.94-2.06-.94-.94-2.06-.94 2.06-2.06.94z\"/><path d=\"M17.41 7.96l-1.37-1.37c-.4-.4-.92-.59-1.43-.59-.52 0-1.04.2-1.43.59L10.3 9.45l-7.72 7.72c-.78.78-.78 2.05 0 2.83L4 21.41c.39.39.9.59 1.41.59.51 0 1.02-.2 1.41-.59l7.78-7.78 2.81-2.81c.8-.78.8-2.07 0-2.86zM5.41 20L4 18.59l7.72-7.72 1.47 1.35L5.41 20z\"/>\n",
              "  </svg>\n",
              "      </button>\n",
              "      \n",
              "  <style>\n",
              "    .colab-df-container {\n",
              "      display:flex;\n",
              "      flex-wrap:wrap;\n",
              "      gap: 12px;\n",
              "    }\n",
              "\n",
              "    .colab-df-convert {\n",
              "      background-color: #E8F0FE;\n",
              "      border: none;\n",
              "      border-radius: 50%;\n",
              "      cursor: pointer;\n",
              "      display: none;\n",
              "      fill: #1967D2;\n",
              "      height: 32px;\n",
              "      padding: 0 0 0 0;\n",
              "      width: 32px;\n",
              "    }\n",
              "\n",
              "    .colab-df-convert:hover {\n",
              "      background-color: #E2EBFA;\n",
              "      box-shadow: 0px 1px 2px rgba(60, 64, 67, 0.3), 0px 1px 3px 1px rgba(60, 64, 67, 0.15);\n",
              "      fill: #174EA6;\n",
              "    }\n",
              "\n",
              "    [theme=dark] .colab-df-convert {\n",
              "      background-color: #3B4455;\n",
              "      fill: #D2E3FC;\n",
              "    }\n",
              "\n",
              "    [theme=dark] .colab-df-convert:hover {\n",
              "      background-color: #434B5C;\n",
              "      box-shadow: 0px 1px 3px 1px rgba(0, 0, 0, 0.15);\n",
              "      filter: drop-shadow(0px 1px 2px rgba(0, 0, 0, 0.3));\n",
              "      fill: #FFFFFF;\n",
              "    }\n",
              "  </style>\n",
              "\n",
              "      <script>\n",
              "        const buttonEl =\n",
              "          document.querySelector('#df-788c721b-f7c3-4d20-8189-4012c23c3210 button.colab-df-convert');\n",
              "        buttonEl.style.display =\n",
              "          google.colab.kernel.accessAllowed ? 'block' : 'none';\n",
              "\n",
              "        async function convertToInteractive(key) {\n",
              "          const element = document.querySelector('#df-788c721b-f7c3-4d20-8189-4012c23c3210');\n",
              "          const dataTable =\n",
              "            await google.colab.kernel.invokeFunction('convertToInteractive',\n",
              "                                                     [key], {});\n",
              "          if (!dataTable) return;\n",
              "\n",
              "          const docLinkHtml = 'Like what you see? Visit the ' +\n",
              "            '<a target=\"_blank\" href=https://colab.research.google.com/notebooks/data_table.ipynb>data table notebook</a>'\n",
              "            + ' to learn more about interactive tables.';\n",
              "          element.innerHTML = '';\n",
              "          dataTable['output_type'] = 'display_data';\n",
              "          await google.colab.output.renderOutput(dataTable, element);\n",
              "          const docLink = document.createElement('div');\n",
              "          docLink.innerHTML = docLinkHtml;\n",
              "          element.appendChild(docLink);\n",
              "        }\n",
              "      </script>\n",
              "    </div>\n",
              "  </div>\n",
              "  "
            ],
            "text/plain": [
              "       Question      Cost\n",
              "0        Person  0.000000\n",
              "1    Question 1  4.641667\n",
              "2    Question 2  0.000000\n",
              "3    Question 3  4.404762\n",
              "4    Question 4  4.823077\n",
              "5    Question 5  4.769841\n",
              "6    Question 6  4.531746\n",
              "7    Question 7  4.785714\n",
              "8    Question 8  4.761905\n",
              "9    Question 9  4.727273\n",
              "10  Question 10  5.225000"
            ]
          },
          "metadata": {},
          "execution_count": 37
        }
      ]
    },
    {
      "cell_type": "code",
      "source": [
        "def list_of_people_to_string(df):\n",
        "    list_of_people = \"\"\n",
        "    for row in df[\"Person\"]:\n",
        "      list_of_people = list_of_people + str(row) + \", \"\n",
        "    return list_of_people"
      ],
      "metadata": {
        "id": "uu5d6zZenGd_"
      },
      "execution_count": null,
      "outputs": []
    },
    {
      "cell_type": "code",
      "source": [
        "root = AnyNode(name=list_of_people_to_string(df), people_list=df, questions=questions_with_cost_df)"
      ],
      "metadata": {
        "id": "jGajvlGwrqOB"
      },
      "execution_count": null,
      "outputs": []
    },
    {
      "cell_type": "code",
      "source": [
        "for pre, fill, node in RenderTree(root):\n",
        "    print(\"%s%s\" % (pre, node.name))"
      ],
      "metadata": {
        "colab": {
          "base_uri": "https://localhost:8080/"
        },
        "id": "Hmj_EtvE18gW",
        "outputId": "659ce357-0234-4202-d5f6-ceae8f91bb61"
      },
      "execution_count": null,
      "outputs": [
        {
          "output_type": "stream",
          "name": "stdout",
          "text": [
            "A, B, C, D, E, F, G, H, I, J, K, L, M, N, O, P, R, S, T, U, W, Y, Z, \n",
            "├── B, C, E, G, H, J, L, M, N, O, P, S, U, Y, \n",
            "└── A, D, F, I, K, R, T, W, Z, \n"
          ]
        }
      ]
    },
    {
      "cell_type": "code",
      "source": [
        "def giveChildren(the_root):\n",
        "    questions_with_cost_df1 = the_root.questions\n",
        "    people_list = the_root.people_list\n",
        "    column_applicable =  min(questions_with_cost_df1, key=questions_with_cost_df1.get)\n",
        "    left = df.loc[people_list[str(column_applicable)] == \"Yes\"]\n",
        "    right = df.loc[people_list[str(column_applicable)] == \"No\"]\n",
        "    del questions_with_cost_df1[min(questions_with_cost_df1, key=questions_with_cost_df1.get)]\n",
        "    child1 = AnyNode(name = list_of_people_to_string(left), people_list=left, questions=questions_with_cost_df1)\n",
        "    child2 = AnyNode(name=list_of_people_to_string(right), people_list=right, questions=questions_with_cost_df1)\n",
        "    the_root.children = [child1, child2]\n",
        "    return the_root\n",
        "\n"
      ],
      "metadata": {
        "id": "Vt-T7RwRyvbt"
      },
      "execution_count": null,
      "outputs": []
    },
    {
      "cell_type": "code",
      "source": [
        "  for pre, fill, node in RenderTree(the_root):\n",
        "    print(\"%s%s\" % (pre, node.name))"
      ],
      "metadata": {
        "colab": {
          "base_uri": "https://localhost:8080/"
        },
        "id": "pKl9C8IX6eU4",
        "outputId": "1d8f29f7-2a95-4fff-a9a7-0607c7c1b0f1"
      },
      "execution_count": null,
      "outputs": [
        {
          "output_type": "stream",
          "name": "stdout",
          "text": [
            "A, B, C, D, E, F, G, H, I, J, K, L, M, N, O, P, R, S, T, U, W, Y, Z, \n",
            "├── B, C, E, G, H, J, L, M, N, O, P, S, U, Y, \n",
            "└── A, D, F, I, K, R, T, W, Z, \n"
          ]
        }
      ]
    },
    {
      "cell_type": "markdown",
      "source": [
        "##Naive table search algorythm\n",
        "**Input:** The separation system S, enumerated as s1, . . . , sn; oracle access to F.\n",
        "\n",
        "**Output:** For every i ≤ n a list Ti of all F-tangles of {s1, . . . , si}."
      ],
      "metadata": {
        "id": "d9YFCUMFF4uX"
      }
    }
  ]
}