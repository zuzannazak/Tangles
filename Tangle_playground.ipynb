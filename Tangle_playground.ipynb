{
  "nbformat": 4,
  "nbformat_minor": 0,
  "metadata": {
    "colab": {
      "name": "Tangle playground.ipynb",
      "provenance": [],
      "include_colab_link": true
    },
    "kernelspec": {
      "name": "python3",
      "display_name": "Python 3"
    },
    "language_info": {
      "name": "python"
    }
  },
  "cells": [
    {
      "cell_type": "markdown",
      "metadata": {
        "id": "view-in-github",
        "colab_type": "text"
      },
      "source": [
        "<a href=\"https://colab.research.google.com/github/zuzannazak/Tangles/blob/main/Tangle_playground.ipynb\" target=\"_parent\"><img src=\"https://colab.research.google.com/assets/colab-badge.svg\" alt=\"Open In Colab\"/></a>"
      ]
    },
    {
      "cell_type": "markdown",
      "source": [
        "#Tangles theoretical intro"
      ],
      "metadata": {
        "id": "SLVHyQb6cYSa"
      }
    },
    {
      "cell_type": "markdown",
      "source": [
        "##Definitions\n",
        "\n",
        "Traditional clustering identifies groups of objects that share\n",
        "certain qualities. Tangles do the converse: they identify\n",
        "groups of qualities that often occur together. They can\n",
        "thereby identify and discover types: of behaviour, views,\n",
        "abilities, dispositions.\n",
        "\n",
        "\n",
        "\n",
        "*   (potential) features s of (elements v of) V (aka separations)\n",
        "   *    The elements of S are called potential features of (the elements of) V, those of S~ are their features. An element of V has a feature A if it lies in A.\n",
        "*   specifications →s , ←s of such s\n",
        "   *   A subset of S~ is a specification of S if for every s ∈ S it contains either →s or ←s but not both. The elements of S are called potential features of (the elements of) V, those of S~ are their features. An element of V has a feature A if it lies in A.\n",
        "   *   types (or typical specifications of S) \n",
        "      *   A subset of S~ is a specification of S if for every s ∈ S it contains either →s or ←s but not both.\n",
        "   *   consistency of specifications\n",
        "     *   A subset of S~ is inconsistent if it contains three features →r, →s, →t such that no element of V has them al\n",
        "*   tangles\n",
        "   *   Every Fn-tangle of S contains all the features ←s for which →s has fewer than n elements, because it cannot contain {→s } ∈ Fn as a subset.\n",
        "*   star\n",
        "   *   A set of features is a star if their inverses are disjoint subsets of V. \n",
        "*   universe of features\n",
        "   *   We shall be particularly interested in sets S such that S~ contains, for any given →r ,→s ∈ S~, also the features →r ∨ →s and →r ∧ →s . If S has this property, then S~ will, in fact, contain all Boolean expressions of features it contains already - combinations of features built from others by using the symbols ∨ and ∧ and taking inverses. We then call S~ a universe of features.\n",
        "*   submodularity\n",
        "   *   S and S~ are submodular if for any two features →r ,→s ∈ S~ at least one of →r ∨ →s and →r ∧ →s is also in S~.\n",
        "\n"
      ],
      "metadata": {
        "id": "B6dAWzMacPO-"
      }
    },
    {
      "cell_type": "markdown",
      "source": [
        "#Tangles example - Polish administrative regions and numeric variables\n",
        "\n",
        "Data about Polish administrative regions (16) regarding population health."
      ],
      "metadata": {
        "id": "auJcr7pJcdqt"
      }
    },
    {
      "cell_type": "code",
      "execution_count": 1,
      "metadata": {
        "id": "wqCDMGxkRyzU"
      },
      "outputs": [],
      "source": [
        "#from google.colab import drive\n",
        "#drive.mount('/content/drive')\n",
        "\n",
        "import pandas as pd\n",
        "import numpy as np"
      ]
    },
    {
      "cell_type": "code",
      "source": [
        "#df = pd.read_excel(\"/content/drive/MyDrive/STUDIA/Doktorskie/Tangle/test-data.xlsx\")\n",
        "df = pd.read_excel(\"https://github.com/zuzannazak/Tangles/blob/main/wojewodztwa_test_data.xlsx?raw=true\")\n",
        "df.head()"
      ],
      "metadata": {
        "colab": {
          "base_uri": "https://localhost:8080/",
          "height": 285
        },
        "id": "qWZ38uDVc__j",
        "outputId": "8806a8ec-9ccd-41eb-866f-256649a96f10"
      },
      "execution_count": 2,
      "outputs": [
        {
          "output_type": "execute_result",
          "data": {
            "text/html": [
              "\n",
              "  <div id=\"df-43e4346c-88eb-4681-8a4e-b3d7d17f5408\">\n",
              "    <div class=\"colab-df-container\">\n",
              "      <div>\n",
              "<style scoped>\n",
              "    .dataframe tbody tr th:only-of-type {\n",
              "        vertical-align: middle;\n",
              "    }\n",
              "\n",
              "    .dataframe tbody tr th {\n",
              "        vertical-align: top;\n",
              "    }\n",
              "\n",
              "    .dataframe thead th {\n",
              "        text-align: right;\n",
              "    }\n",
              "</style>\n",
              "<table border=\"1\" class=\"dataframe\">\n",
              "  <thead>\n",
              "    <tr style=\"text-align: right;\">\n",
              "      <th></th>\n",
              "      <th>Nazwa wojewodztwa</th>\n",
              "      <th>Oczekiwane trwanie życia w zdrowiu - mężczyźni</th>\n",
              "      <th>Oczekiwane trwanie życia w zdrowiu - kobiety</th>\n",
              "      <th>Lekarze posiadający prawo wykonywania zawodu medycznego na 10 tys. ludności</th>\n",
              "      <th>Powierzchnia gruntów leśnych (ha)</th>\n",
              "    </tr>\n",
              "  </thead>\n",
              "  <tbody>\n",
              "    <tr>\n",
              "      <th>0</th>\n",
              "      <td>DOLNOŚLĄSKIE</td>\n",
              "      <td>59.3</td>\n",
              "      <td>63.1</td>\n",
              "      <td>43.2</td>\n",
              "      <td>28652.24</td>\n",
              "    </tr>\n",
              "    <tr>\n",
              "      <th>1</th>\n",
              "      <td>KUJAWSKO-POMORSKIE</td>\n",
              "      <td>59.8</td>\n",
              "      <td>63.5</td>\n",
              "      <td>32.3</td>\n",
              "      <td>53390.76</td>\n",
              "    </tr>\n",
              "    <tr>\n",
              "      <th>2</th>\n",
              "      <td>LUBELSKIE</td>\n",
              "      <td>59.4</td>\n",
              "      <td>62.9</td>\n",
              "      <td>42.0</td>\n",
              "      <td>240792.69</td>\n",
              "    </tr>\n",
              "    <tr>\n",
              "      <th>3</th>\n",
              "      <td>LUBUSKIE</td>\n",
              "      <td>60.6</td>\n",
              "      <td>64.2</td>\n",
              "      <td>25.3</td>\n",
              "      <td>15003.21</td>\n",
              "    </tr>\n",
              "    <tr>\n",
              "      <th>4</th>\n",
              "      <td>ŁÓDZKIE</td>\n",
              "      <td>58.7</td>\n",
              "      <td>62.7</td>\n",
              "      <td>48.3</td>\n",
              "      <td>139044.29</td>\n",
              "    </tr>\n",
              "  </tbody>\n",
              "</table>\n",
              "</div>\n",
              "      <button class=\"colab-df-convert\" onclick=\"convertToInteractive('df-43e4346c-88eb-4681-8a4e-b3d7d17f5408')\"\n",
              "              title=\"Convert this dataframe to an interactive table.\"\n",
              "              style=\"display:none;\">\n",
              "        \n",
              "  <svg xmlns=\"http://www.w3.org/2000/svg\" height=\"24px\"viewBox=\"0 0 24 24\"\n",
              "       width=\"24px\">\n",
              "    <path d=\"M0 0h24v24H0V0z\" fill=\"none\"/>\n",
              "    <path d=\"M18.56 5.44l.94 2.06.94-2.06 2.06-.94-2.06-.94-.94-2.06-.94 2.06-2.06.94zm-11 1L8.5 8.5l.94-2.06 2.06-.94-2.06-.94L8.5 2.5l-.94 2.06-2.06.94zm10 10l.94 2.06.94-2.06 2.06-.94-2.06-.94-.94-2.06-.94 2.06-2.06.94z\"/><path d=\"M17.41 7.96l-1.37-1.37c-.4-.4-.92-.59-1.43-.59-.52 0-1.04.2-1.43.59L10.3 9.45l-7.72 7.72c-.78.78-.78 2.05 0 2.83L4 21.41c.39.39.9.59 1.41.59.51 0 1.02-.2 1.41-.59l7.78-7.78 2.81-2.81c.8-.78.8-2.07 0-2.86zM5.41 20L4 18.59l7.72-7.72 1.47 1.35L5.41 20z\"/>\n",
              "  </svg>\n",
              "      </button>\n",
              "      \n",
              "  <style>\n",
              "    .colab-df-container {\n",
              "      display:flex;\n",
              "      flex-wrap:wrap;\n",
              "      gap: 12px;\n",
              "    }\n",
              "\n",
              "    .colab-df-convert {\n",
              "      background-color: #E8F0FE;\n",
              "      border: none;\n",
              "      border-radius: 50%;\n",
              "      cursor: pointer;\n",
              "      display: none;\n",
              "      fill: #1967D2;\n",
              "      height: 32px;\n",
              "      padding: 0 0 0 0;\n",
              "      width: 32px;\n",
              "    }\n",
              "\n",
              "    .colab-df-convert:hover {\n",
              "      background-color: #E2EBFA;\n",
              "      box-shadow: 0px 1px 2px rgba(60, 64, 67, 0.3), 0px 1px 3px 1px rgba(60, 64, 67, 0.15);\n",
              "      fill: #174EA6;\n",
              "    }\n",
              "\n",
              "    [theme=dark] .colab-df-convert {\n",
              "      background-color: #3B4455;\n",
              "      fill: #D2E3FC;\n",
              "    }\n",
              "\n",
              "    [theme=dark] .colab-df-convert:hover {\n",
              "      background-color: #434B5C;\n",
              "      box-shadow: 0px 1px 3px 1px rgba(0, 0, 0, 0.15);\n",
              "      filter: drop-shadow(0px 1px 2px rgba(0, 0, 0, 0.3));\n",
              "      fill: #FFFFFF;\n",
              "    }\n",
              "  </style>\n",
              "\n",
              "      <script>\n",
              "        const buttonEl =\n",
              "          document.querySelector('#df-43e4346c-88eb-4681-8a4e-b3d7d17f5408 button.colab-df-convert');\n",
              "        buttonEl.style.display =\n",
              "          google.colab.kernel.accessAllowed ? 'block' : 'none';\n",
              "\n",
              "        async function convertToInteractive(key) {\n",
              "          const element = document.querySelector('#df-43e4346c-88eb-4681-8a4e-b3d7d17f5408');\n",
              "          const dataTable =\n",
              "            await google.colab.kernel.invokeFunction('convertToInteractive',\n",
              "                                                     [key], {});\n",
              "          if (!dataTable) return;\n",
              "\n",
              "          const docLinkHtml = 'Like what you see? Visit the ' +\n",
              "            '<a target=\"_blank\" href=https://colab.research.google.com/notebooks/data_table.ipynb>data table notebook</a>'\n",
              "            + ' to learn more about interactive tables.';\n",
              "          element.innerHTML = '';\n",
              "          dataTable['output_type'] = 'display_data';\n",
              "          await google.colab.output.renderOutput(dataTable, element);\n",
              "          const docLink = document.createElement('div');\n",
              "          docLink.innerHTML = docLinkHtml;\n",
              "          element.appendChild(docLink);\n",
              "        }\n",
              "      </script>\n",
              "    </div>\n",
              "  </div>\n",
              "  "
            ],
            "text/plain": [
              "    Nazwa wojewodztwa  ...  Powierzchnia gruntów leśnych (ha)\n",
              "0        DOLNOŚLĄSKIE  ...                           28652.24\n",
              "1  KUJAWSKO-POMORSKIE  ...                           53390.76\n",
              "2           LUBELSKIE  ...                          240792.69\n",
              "3            LUBUSKIE  ...                           15003.21\n",
              "4             ŁÓDZKIE  ...                          139044.29\n",
              "\n",
              "[5 rows x 5 columns]"
            ]
          },
          "metadata": {},
          "execution_count": 2
        }
      ]
    },
    {
      "cell_type": "markdown",
      "source": [
        "#Tangles example - fake yes/no questionnaire"
      ],
      "metadata": {
        "id": "6RBQ2GNgThN8"
      }
    },
    {
      "cell_type": "code",
      "source": [
        "pip install openpyxl==3.0.0"
      ],
      "metadata": {
        "colab": {
          "base_uri": "https://localhost:8080/"
        },
        "id": "nT6IBQk-qoXR",
        "outputId": "9e4814d5-d104-4755-f7a3-eacd20a84d27"
      },
      "execution_count": 1,
      "outputs": [
        {
          "output_type": "stream",
          "name": "stdout",
          "text": [
            "Requirement already satisfied: openpyxl==3.0.0 in /usr/local/lib/python3.7/dist-packages (3.0.0)\n",
            "Requirement already satisfied: et-xmlfile in /usr/local/lib/python3.7/dist-packages (from openpyxl==3.0.0) (1.1.0)\n",
            "Requirement already satisfied: jdcal in /usr/local/lib/python3.7/dist-packages (from openpyxl==3.0.0) (1.4.1)\n"
          ]
        }
      ]
    },
    {
      "cell_type": "code",
      "source": [
        "#from google.colab import drive\n",
        "#drive.mount('/content/drive')\n",
        "\n",
        "import pandas as pd\n",
        "import numpy as np\n",
        "import openpyxl"
      ],
      "metadata": {
        "id": "POjRVZsLTmWL"
      },
      "execution_count": 2,
      "outputs": []
    },
    {
      "cell_type": "code",
      "source": [
        "#df = pd.read_excel(\"/content/drive/MyDrive/STUDIA/Doktorskie/Tangle/Tangles_example_fake_data.xlsx\")\n",
        "df = pd.read_excel(\"https://github.com/zuzannazak/Tangles/blob/main/Tangles_example_fake_data.xlsx?raw=true\")\n",
        "df.head()"
      ],
      "metadata": {
        "colab": {
          "base_uri": "https://localhost:8080/",
          "height": 206
        },
        "id": "nlC-YzOSTnHZ",
        "outputId": "c62bd0bd-4f75-4ee0-81bb-6e47051eae50"
      },
      "execution_count": 3,
      "outputs": [
        {
          "output_type": "execute_result",
          "data": {
            "text/html": [
              "\n",
              "  <div id=\"df-7d423146-8251-4de8-bcf8-f92182d08339\">\n",
              "    <div class=\"colab-df-container\">\n",
              "      <div>\n",
              "<style scoped>\n",
              "    .dataframe tbody tr th:only-of-type {\n",
              "        vertical-align: middle;\n",
              "    }\n",
              "\n",
              "    .dataframe tbody tr th {\n",
              "        vertical-align: top;\n",
              "    }\n",
              "\n",
              "    .dataframe thead th {\n",
              "        text-align: right;\n",
              "    }\n",
              "</style>\n",
              "<table border=\"1\" class=\"dataframe\">\n",
              "  <thead>\n",
              "    <tr style=\"text-align: right;\">\n",
              "      <th></th>\n",
              "      <th>Person</th>\n",
              "      <th>Question 1</th>\n",
              "      <th>Question 2</th>\n",
              "      <th>Question 3</th>\n",
              "      <th>Question 4</th>\n",
              "      <th>Question 5</th>\n",
              "      <th>Question 6</th>\n",
              "      <th>Question 7</th>\n",
              "      <th>Question 8</th>\n",
              "      <th>Question 9</th>\n",
              "      <th>Question 10</th>\n",
              "    </tr>\n",
              "  </thead>\n",
              "  <tbody>\n",
              "    <tr>\n",
              "      <th>0</th>\n",
              "      <td>A</td>\n",
              "      <td>Yes</td>\n",
              "      <td>Yes</td>\n",
              "      <td>No</td>\n",
              "      <td>No</td>\n",
              "      <td>No</td>\n",
              "      <td>No</td>\n",
              "      <td>Yes</td>\n",
              "      <td>No</td>\n",
              "      <td>No</td>\n",
              "      <td>Yes</td>\n",
              "    </tr>\n",
              "    <tr>\n",
              "      <th>1</th>\n",
              "      <td>B</td>\n",
              "      <td>Yes</td>\n",
              "      <td>Yes</td>\n",
              "      <td>No</td>\n",
              "      <td>Yes</td>\n",
              "      <td>Yes</td>\n",
              "      <td>No</td>\n",
              "      <td>No</td>\n",
              "      <td>Yes</td>\n",
              "      <td>Yes</td>\n",
              "      <td>Yes</td>\n",
              "    </tr>\n",
              "    <tr>\n",
              "      <th>2</th>\n",
              "      <td>C</td>\n",
              "      <td>Yes</td>\n",
              "      <td>Yes</td>\n",
              "      <td>No</td>\n",
              "      <td>No</td>\n",
              "      <td>Yes</td>\n",
              "      <td>No</td>\n",
              "      <td>Yes</td>\n",
              "      <td>Yes</td>\n",
              "      <td>No</td>\n",
              "      <td>Yes</td>\n",
              "    </tr>\n",
              "    <tr>\n",
              "      <th>3</th>\n",
              "      <td>D</td>\n",
              "      <td>Yes</td>\n",
              "      <td>Yes</td>\n",
              "      <td>No</td>\n",
              "      <td>Yes</td>\n",
              "      <td>No</td>\n",
              "      <td>No</td>\n",
              "      <td>No</td>\n",
              "      <td>No</td>\n",
              "      <td>Yes</td>\n",
              "      <td>Yes</td>\n",
              "    </tr>\n",
              "    <tr>\n",
              "      <th>4</th>\n",
              "      <td>E</td>\n",
              "      <td>Yes</td>\n",
              "      <td>Yes</td>\n",
              "      <td>No</td>\n",
              "      <td>No</td>\n",
              "      <td>Yes</td>\n",
              "      <td>No</td>\n",
              "      <td>No</td>\n",
              "      <td>Yes</td>\n",
              "      <td>Yes</td>\n",
              "      <td>Yes</td>\n",
              "    </tr>\n",
              "  </tbody>\n",
              "</table>\n",
              "</div>\n",
              "      <button class=\"colab-df-convert\" onclick=\"convertToInteractive('df-7d423146-8251-4de8-bcf8-f92182d08339')\"\n",
              "              title=\"Convert this dataframe to an interactive table.\"\n",
              "              style=\"display:none;\">\n",
              "        \n",
              "  <svg xmlns=\"http://www.w3.org/2000/svg\" height=\"24px\"viewBox=\"0 0 24 24\"\n",
              "       width=\"24px\">\n",
              "    <path d=\"M0 0h24v24H0V0z\" fill=\"none\"/>\n",
              "    <path d=\"M18.56 5.44l.94 2.06.94-2.06 2.06-.94-2.06-.94-.94-2.06-.94 2.06-2.06.94zm-11 1L8.5 8.5l.94-2.06 2.06-.94-2.06-.94L8.5 2.5l-.94 2.06-2.06.94zm10 10l.94 2.06.94-2.06 2.06-.94-2.06-.94-.94-2.06-.94 2.06-2.06.94z\"/><path d=\"M17.41 7.96l-1.37-1.37c-.4-.4-.92-.59-1.43-.59-.52 0-1.04.2-1.43.59L10.3 9.45l-7.72 7.72c-.78.78-.78 2.05 0 2.83L4 21.41c.39.39.9.59 1.41.59.51 0 1.02-.2 1.41-.59l7.78-7.78 2.81-2.81c.8-.78.8-2.07 0-2.86zM5.41 20L4 18.59l7.72-7.72 1.47 1.35L5.41 20z\"/>\n",
              "  </svg>\n",
              "      </button>\n",
              "      \n",
              "  <style>\n",
              "    .colab-df-container {\n",
              "      display:flex;\n",
              "      flex-wrap:wrap;\n",
              "      gap: 12px;\n",
              "    }\n",
              "\n",
              "    .colab-df-convert {\n",
              "      background-color: #E8F0FE;\n",
              "      border: none;\n",
              "      border-radius: 50%;\n",
              "      cursor: pointer;\n",
              "      display: none;\n",
              "      fill: #1967D2;\n",
              "      height: 32px;\n",
              "      padding: 0 0 0 0;\n",
              "      width: 32px;\n",
              "    }\n",
              "\n",
              "    .colab-df-convert:hover {\n",
              "      background-color: #E2EBFA;\n",
              "      box-shadow: 0px 1px 2px rgba(60, 64, 67, 0.3), 0px 1px 3px 1px rgba(60, 64, 67, 0.15);\n",
              "      fill: #174EA6;\n",
              "    }\n",
              "\n",
              "    [theme=dark] .colab-df-convert {\n",
              "      background-color: #3B4455;\n",
              "      fill: #D2E3FC;\n",
              "    }\n",
              "\n",
              "    [theme=dark] .colab-df-convert:hover {\n",
              "      background-color: #434B5C;\n",
              "      box-shadow: 0px 1px 3px 1px rgba(0, 0, 0, 0.15);\n",
              "      filter: drop-shadow(0px 1px 2px rgba(0, 0, 0, 0.3));\n",
              "      fill: #FFFFFF;\n",
              "    }\n",
              "  </style>\n",
              "\n",
              "      <script>\n",
              "        const buttonEl =\n",
              "          document.querySelector('#df-7d423146-8251-4de8-bcf8-f92182d08339 button.colab-df-convert');\n",
              "        buttonEl.style.display =\n",
              "          google.colab.kernel.accessAllowed ? 'block' : 'none';\n",
              "\n",
              "        async function convertToInteractive(key) {\n",
              "          const element = document.querySelector('#df-7d423146-8251-4de8-bcf8-f92182d08339');\n",
              "          const dataTable =\n",
              "            await google.colab.kernel.invokeFunction('convertToInteractive',\n",
              "                                                     [key], {});\n",
              "          if (!dataTable) return;\n",
              "\n",
              "          const docLinkHtml = 'Like what you see? Visit the ' +\n",
              "            '<a target=\"_blank\" href=https://colab.research.google.com/notebooks/data_table.ipynb>data table notebook</a>'\n",
              "            + ' to learn more about interactive tables.';\n",
              "          element.innerHTML = '';\n",
              "          dataTable['output_type'] = 'display_data';\n",
              "          await google.colab.output.renderOutput(dataTable, element);\n",
              "          const docLink = document.createElement('div');\n",
              "          docLink.innerHTML = docLinkHtml;\n",
              "          element.appendChild(docLink);\n",
              "        }\n",
              "      </script>\n",
              "    </div>\n",
              "  </div>\n",
              "  "
            ],
            "text/plain": [
              "  Person Question 1 Question 2  ... Question 8 Question 9 Question 10\n",
              "0      A        Yes        Yes  ...         No         No         Yes\n",
              "1      B        Yes        Yes  ...        Yes        Yes         Yes\n",
              "2      C        Yes        Yes  ...        Yes         No         Yes\n",
              "3      D        Yes        Yes  ...         No        Yes         Yes\n",
              "4      E        Yes        Yes  ...        Yes        Yes         Yes\n",
              "\n",
              "[5 rows x 11 columns]"
            ]
          },
          "metadata": {},
          "execution_count": 3
        }
      ]
    },
    {
      "cell_type": "code",
      "source": [
        "#calculating cost function for cuts - the mean over the similarities over all possible pairs of separated persons:\n",
        "\n",
        "list_of_cost_func = {}\n",
        "for columnName in df.iteritems():\n",
        "  qA = df.loc[df[str(columnName[0])] == \"Yes\"]\n",
        "  qB = df.loc[df[str(columnName[0])] == \"No\"]\n",
        "\n",
        "  qA = qA.reset_index(drop=True)\n",
        "  qB = qB.reset_index(drop=True)\n",
        "\n",
        "\n",
        "  sum_of_similarities = 0\n",
        "\n",
        "  for i, row in qA.iterrows():\n",
        "      for l, row in qB.iterrows():\n",
        "        for k in range(10):\n",
        "          if qB.iat[l,k] == qA.iat[i,k]: \n",
        "            sum_of_similarities = sum_of_similarities +1\n",
        "            #print(str(j) + \": rząd \" + str(l) + \", pytanie \" + str(k) + \": \" + q1B.iat[l,k] + \" i \"+\"rząd \" + str(i) +\", pytanie \" + str(k) + \": \" + q1A.iat[i,k])\n",
        "            #print(sum_of_similarities)\n",
        "\n",
        "  number_of_pairs_between_sets = qA.shape[0]*qB.shape[0]\n",
        "  if number_of_pairs_between_sets == 0:\n",
        "    number_of_pairs_between_sets = 0.0000001\n",
        "  normalized_func_cost = sum_of_similarities/number_of_pairs_between_sets\n",
        "  list_of_cost_func[str(columnName[0])] = normalized_func_cost\n",
        "\n",
        "  sum_of_similarities = 0\n",
        "\n",
        "\n",
        "list_of_cost_func\n",
        "#why 0 when all of them are different, or all of them are the same?"
      ],
      "metadata": {
        "colab": {
          "base_uri": "https://localhost:8080/"
        },
        "id": "ZI9ZNQq3Zk5I",
        "outputId": "3789a6c2-20fe-4bc3-c3d6-a052f581cb61"
      },
      "execution_count": 4,
      "outputs": [
        {
          "output_type": "execute_result",
          "data": {
            "text/plain": [
              "{'Person': 0.0,\n",
              " 'Question 1': 4.641666666666667,\n",
              " 'Question 10': 5.225,\n",
              " 'Question 2': 0.0,\n",
              " 'Question 3': 4.404761904761905,\n",
              " 'Question 4': 4.823076923076923,\n",
              " 'Question 5': 4.76984126984127,\n",
              " 'Question 6': 4.531746031746032,\n",
              " 'Question 7': 4.785714285714286,\n",
              " 'Question 8': 4.761904761904762,\n",
              " 'Question 9': 4.7272727272727275}"
            ]
          },
          "metadata": {},
          "execution_count": 4
        }
      ]
    },
    {
      "cell_type": "code",
      "source": [
        "desired_value = 0.0\n",
        "for key, value in list_of_cost_func.items():\n",
        "  if value == desired_value:\n",
        "    del list_of_cost_func[key]\n",
        "    break\n",
        "\n",
        "list_of_cost_func\n",
        "df_not0cost = df[list_of_cost_func]\n",
        "df_not0cost_person = df_not0cost.join(df[\"Person\"])"
      ],
      "metadata": {
        "id": "aRq5C-4sOyMy"
      },
      "execution_count": 18,
      "outputs": []
    },
    {
      "cell_type": "code",
      "source": [
        "class Node:\n",
        "    def __init__(self, data):\n",
        "        self.left = None\n",
        "        self.right = None\n",
        "        self.data = data"
      ],
      "metadata": {
        "id": "Dv_G4c7hkrUZ"
      },
      "execution_count": 6,
      "outputs": []
    },
    {
      "cell_type": "code",
      "source": [
        "for columnName in df.iteritems():\n",
        "\n"
      ],
      "metadata": {
        "colab": {
          "base_uri": "https://localhost:8080/"
        },
        "id": "-2Ifuz_Wz7lZ",
        "outputId": "8072b3e1-8553-49ca-d4c9-d7f01fbd4dc9"
      },
      "execution_count": 12,
      "outputs": [
        {
          "output_type": "execute_result",
          "data": {
            "text/plain": [
              "0     A\n",
              "1     B\n",
              "2     C\n",
              "3     D\n",
              "4     E\n",
              "10    K\n",
              "11    L\n",
              "12    M\n",
              "14    O\n",
              "16    R\n",
              "17    S\n",
              "19    U\n",
              "20    W\n",
              "21    Y\n",
              "22    Z\n",
              "Name: Person, dtype: object"
            ]
          },
          "metadata": {},
          "execution_count": 12
        }
      ]
    },
    {
      "cell_type": "markdown",
      "source": [
        "##Naive table search algorythm\n",
        "**Input:** The separation system S, enumerated as s1, . . . , sn; oracle access to F.\n",
        "\n",
        "**Output:** For every i ≤ n a list Ti of all F-tangles of {s1, . . . , si}."
      ],
      "metadata": {
        "id": "d9YFCUMFF4uX"
      }
    }
  ]
}